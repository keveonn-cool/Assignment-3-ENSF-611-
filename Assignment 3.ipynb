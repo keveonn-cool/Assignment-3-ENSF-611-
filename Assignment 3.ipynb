{
 "cells": [
  {
   "cell_type": "markdown",
   "id": "92778525",
   "metadata": {},
   "source": [
    "# Assignment 3: Non-Linear Models and Validation Metrics (37 total marks)\n",
    "### Due: October 24 at 11:59pm\n",
    "\n",
    "### Name: Gopal Sharma"
   ]
  },
  {
   "cell_type": "markdown",
   "id": "ce31b39a",
   "metadata": {},
   "source": [
    "### In this assignment, you will need to write code that uses non-linear models to perform classification and regression tasks. You will also be asked to describe the process by which you came up with the code. More details can be found below. Please cite any websites or AI tools that you used to help you with this assignment."
   ]
  },
  {
   "cell_type": "markdown",
   "id": "cf275ca7",
   "metadata": {},
   "source": [
    "### Import Libraries"
   ]
  },
  {
   "cell_type": "code",
   "execution_count": 2,
   "id": "2b67a661",
   "metadata": {},
   "outputs": [],
   "source": [
    "import numpy as np\n",
    "import pandas as pd\n",
    "import matplotlib.pyplot as plt\n",
    "import seaborn as sns"
   ]
  },
  {
   "cell_type": "markdown",
   "id": "5ee2d2c3",
   "metadata": {},
   "source": [
    "## Part 1: Regression (14.5 marks)\n",
    "\n",
    "For this section, we will be continuing with the concrete example from yellowbrick. You will need to compare these results to the results from the previous assignment. Please use the results from the solution if you were unable to complete Assignment 2"
   ]
  },
  {
   "cell_type": "markdown",
   "id": "8219f163",
   "metadata": {},
   "source": [
    "### Step 1: Data Input (0.5 marks)\n",
    "\n",
    "The data used for this task can be downloaded using the yellowbrick library: \n",
    "https://www.scikit-yb.org/en/latest/api/datasets/concrete.html\n",
    "\n",
    "Use the yellowbrick function `load_concrete()` to load the concrete dataset into the feature matrix `X` and target vector `y`."
   ]
  },
  {
   "cell_type": "code",
   "execution_count": 3,
   "id": "2af8bd32",
   "metadata": {},
   "outputs": [],
   "source": [
    "# TO DO: Import concrete dataset from yellowbrick library\n",
    "from yellowbrick.datasets import load_concrete\n",
    "X, y = load_concrete()"
   ]
  },
  {
   "cell_type": "markdown",
   "id": "42fea4cc",
   "metadata": {},
   "source": [
    "### Step 2: Data Processing (0 marks)\n",
    "\n",
    "Data processing was completed in the previous assignment. No need to repeat here."
   ]
  },
  {
   "cell_type": "markdown",
   "id": "2a245d00",
   "metadata": {},
   "source": [
    "### Step 3: Implement Machine Learning Model\n",
    "\n",
    "1. Import the Decision Tree, Random Forest and Gradient Boosting Machines regression models from sklearn\n",
    "2. Instantiate the three models with `max_depth = 5`. Are there any other parameters that you will need to set?\n",
    "3. Implement each machine learning model with `X` Iand `y`\n",
    "\n"
   ]
  },
  {
   "cell_type": "code",
   "execution_count": 4,
   "id": "626b90cd",
   "metadata": {},
   "outputs": [
    {
     "data": {
      "text/html": [
       "<style>#sk-container-id-1 {color: black;}#sk-container-id-1 pre{padding: 0;}#sk-container-id-1 div.sk-toggleable {background-color: white;}#sk-container-id-1 label.sk-toggleable__label {cursor: pointer;display: block;width: 100%;margin-bottom: 0;padding: 0.3em;box-sizing: border-box;text-align: center;}#sk-container-id-1 label.sk-toggleable__label-arrow:before {content: \"▸\";float: left;margin-right: 0.25em;color: #696969;}#sk-container-id-1 label.sk-toggleable__label-arrow:hover:before {color: black;}#sk-container-id-1 div.sk-estimator:hover label.sk-toggleable__label-arrow:before {color: black;}#sk-container-id-1 div.sk-toggleable__content {max-height: 0;max-width: 0;overflow: hidden;text-align: left;background-color: #f0f8ff;}#sk-container-id-1 div.sk-toggleable__content pre {margin: 0.2em;color: black;border-radius: 0.25em;background-color: #f0f8ff;}#sk-container-id-1 input.sk-toggleable__control:checked~div.sk-toggleable__content {max-height: 200px;max-width: 100%;overflow: auto;}#sk-container-id-1 input.sk-toggleable__control:checked~label.sk-toggleable__label-arrow:before {content: \"▾\";}#sk-container-id-1 div.sk-estimator input.sk-toggleable__control:checked~label.sk-toggleable__label {background-color: #d4ebff;}#sk-container-id-1 div.sk-label input.sk-toggleable__control:checked~label.sk-toggleable__label {background-color: #d4ebff;}#sk-container-id-1 input.sk-hidden--visually {border: 0;clip: rect(1px 1px 1px 1px);clip: rect(1px, 1px, 1px, 1px);height: 1px;margin: -1px;overflow: hidden;padding: 0;position: absolute;width: 1px;}#sk-container-id-1 div.sk-estimator {font-family: monospace;background-color: #f0f8ff;border: 1px dotted black;border-radius: 0.25em;box-sizing: border-box;margin-bottom: 0.5em;}#sk-container-id-1 div.sk-estimator:hover {background-color: #d4ebff;}#sk-container-id-1 div.sk-parallel-item::after {content: \"\";width: 100%;border-bottom: 1px solid gray;flex-grow: 1;}#sk-container-id-1 div.sk-label:hover label.sk-toggleable__label {background-color: #d4ebff;}#sk-container-id-1 div.sk-serial::before {content: \"\";position: absolute;border-left: 1px solid gray;box-sizing: border-box;top: 0;bottom: 0;left: 50%;z-index: 0;}#sk-container-id-1 div.sk-serial {display: flex;flex-direction: column;align-items: center;background-color: white;padding-right: 0.2em;padding-left: 0.2em;position: relative;}#sk-container-id-1 div.sk-item {position: relative;z-index: 1;}#sk-container-id-1 div.sk-parallel {display: flex;align-items: stretch;justify-content: center;background-color: white;position: relative;}#sk-container-id-1 div.sk-item::before, #sk-container-id-1 div.sk-parallel-item::before {content: \"\";position: absolute;border-left: 1px solid gray;box-sizing: border-box;top: 0;bottom: 0;left: 50%;z-index: -1;}#sk-container-id-1 div.sk-parallel-item {display: flex;flex-direction: column;z-index: 1;position: relative;background-color: white;}#sk-container-id-1 div.sk-parallel-item:first-child::after {align-self: flex-end;width: 50%;}#sk-container-id-1 div.sk-parallel-item:last-child::after {align-self: flex-start;width: 50%;}#sk-container-id-1 div.sk-parallel-item:only-child::after {width: 0;}#sk-container-id-1 div.sk-dashed-wrapped {border: 1px dashed gray;margin: 0 0.4em 0.5em 0.4em;box-sizing: border-box;padding-bottom: 0.4em;background-color: white;}#sk-container-id-1 div.sk-label label {font-family: monospace;font-weight: bold;display: inline-block;line-height: 1.2em;}#sk-container-id-1 div.sk-label-container {text-align: center;}#sk-container-id-1 div.sk-container {/* jupyter's `normalize.less` sets `[hidden] { display: none; }` but bootstrap.min.css set `[hidden] { display: none !important; }` so we also need the `!important` here to be able to override the default hidden behavior on the sphinx rendered scikit-learn.org. See: https://github.com/scikit-learn/scikit-learn/issues/21755 */display: inline-block !important;position: relative;}#sk-container-id-1 div.sk-text-repr-fallback {display: none;}</style><div id=\"sk-container-id-1\" class=\"sk-top-container\"><div class=\"sk-text-repr-fallback\"><pre>GradientBoostingRegressor(max_depth=5, random_state=0)</pre><b>In a Jupyter environment, please rerun this cell to show the HTML representation or trust the notebook. <br />On GitHub, the HTML representation is unable to render, please try loading this page with nbviewer.org.</b></div><div class=\"sk-container\" hidden><div class=\"sk-item\"><div class=\"sk-estimator sk-toggleable\"><input class=\"sk-toggleable__control sk-hidden--visually\" id=\"sk-estimator-id-1\" type=\"checkbox\" checked><label for=\"sk-estimator-id-1\" class=\"sk-toggleable__label sk-toggleable__label-arrow\">GradientBoostingRegressor</label><div class=\"sk-toggleable__content\"><pre>GradientBoostingRegressor(max_depth=5, random_state=0)</pre></div></div></div></div></div>"
      ],
      "text/plain": [
       "GradientBoostingRegressor(max_depth=5, random_state=0)"
      ]
     },
     "execution_count": 4,
     "metadata": {},
     "output_type": "execute_result"
    }
   ],
   "source": [
    "from sklearn.model_selection import train_test_split\n",
    "from sklearn.tree import DecisionTreeRegressor\n",
    "from sklearn.ensemble import RandomForestRegressor, GradientBoostingRegressor\n",
    "\n",
    "# Split the data into training and testing sets\n",
    "X_train, X_test, y_train, y_test = train_test_split(X, y, random_state=0, test_size=0.2)\n",
    "\n",
    "# Initialize the regression models with max_depth = 5\n",
    "decision_tree = DecisionTreeRegressor(max_depth=5, random_state=0)\n",
    "random_forest = RandomForestRegressor(max_depth=5, random_state=0)\n",
    "gradient_boosting = GradientBoostingRegressor(max_depth=5, random_state=0)\n",
    "\n",
    "# Fit the models to the training data\n",
    "decision_tree.fit(X_train, y_train)\n",
    "random_forest.fit(X_train, y_train)\n",
    "gradient_boosting.fit(X_train, y_train)\n"
   ]
  },
  {
   "cell_type": "markdown",
   "id": "3f994e31",
   "metadata": {},
   "source": [
    "### Step 4: Validate Model\n",
    "\n",
    "Calculate the average training and validation accuracy using mean squared error with cross-validation. To do this, you will need to set `scoring='neg_mean_squared_error'` in your `cross_validate` function and negate the results (multiply by -1)"
   ]
  },
  {
   "cell_type": "code",
   "execution_count": 5,
   "id": "93d2a4f9",
   "metadata": {},
   "outputs": [
    {
     "name": "stdout",
     "output_type": "stream",
     "text": [
      "Decision Tree Model:\n",
      "Training MSE: 47.823\n",
      "Validation MSE: 74.045\n",
      "\n",
      "Random Forest Model:\n",
      "Training MSE: 30.296\n",
      "Validation MSE: 47.615\n",
      "\n",
      "Gradient Boosting Model:\n",
      "Training MSE: 3.694\n",
      "Validation MSE: 23.547\n"
     ]
    }
   ],
   "source": [
    "from sklearn.model_selection import cross_validate\n",
    "\n",
    "# Perform cross-validation and calculate mean squared error for Decision Tree\n",
    "cv_results_dt = cross_validate(decision_tree, X_train, y_train, cv=5, scoring='neg_mean_squared_error', return_train_score=True)\n",
    "\n",
    "# Calculate the mean training and validation MSE for Decision Tree\n",
    "train_mse_dt = cv_results_dt['train_score'].mean() * -1\n",
    "validation_mse_dt = cv_results_dt['test_score'].mean() * -1\n",
    "\n",
    "# Print the results for Decision Tree\n",
    "print(\"Decision Tree Model:\")\n",
    "print(f\"Training MSE: {train_mse_dt:.3f}\")\n",
    "print(f\"Validation MSE: {validation_mse_dt:.3f}\")\n",
    "\n",
    "# Perform cross-validation and calculate mean squared error for Random Forest\n",
    "cv_results_rf = cross_validate(random_forest, X_train, y_train, cv=5, scoring='neg_mean_squared_error', return_train_score=True)\n",
    "\n",
    "# Calculate the mean training and validation MSE for Random Forest\n",
    "train_mse_rf = cv_results_rf['train_score'].mean() * -1\n",
    "validation_mse_rf = cv_results_rf['test_score'].mean() * -1\n",
    "\n",
    "# Print the results for Random Forest\n",
    "print(\"\\nRandom Forest Model:\")\n",
    "print(f\"Training MSE: {train_mse_rf:.3f}\")\n",
    "print(f\"Validation MSE: {validation_mse_rf:.3f}\")\n",
    "\n",
    "# Perform cross-validation and calculate mean squared error for Gradient Boosting\n",
    "cv_results_gb = cross_validate(gradient_boosting, X_train, y_train, cv=5, scoring='neg_mean_squared_error', return_train_score=True)\n",
    "\n",
    "# Calculate the mean training and validation MSE for Gradient Boosting\n",
    "train_mse_gb = cv_results_gb['train_score'].mean() * -1\n",
    "validation_mse_gb = cv_results_gb['test_score'].mean() * -1\n",
    "\n",
    "# Print the results for Gradient Boosting\n",
    "print(\"\\nGradient Boosting Model:\")\n",
    "print(f\"Training MSE: {train_mse_gb:.3f}\")\n",
    "print(f\"Validation MSE: {validation_mse_gb:.3f}\")\n",
    "\n"
   ]
  },
  {
   "cell_type": "markdown",
   "id": "5fc3f7a8",
   "metadata": {},
   "source": [
    "### Step 5: Visualize Results (4 marks)\n",
    "\n",
    "1. Create a pandas DataFrame `results` with columns: Training accuracy and Validation accuracy, and index: DT, RF and GB\n",
    "2. Add the accuracy results to the `results` DataFrame\n",
    "3. Print `results`"
   ]
  },
  {
   "cell_type": "code",
   "execution_count": 6,
   "id": "9c0965b7",
   "metadata": {},
   "outputs": [
    {
     "name": "stdout",
     "output_type": "stream",
     "text": [
      "                  Training MSE Validation MSE\n",
      "Decision Tree        47.822974      74.045335\n",
      "Random Forest        30.296363      47.614708\n",
      "Gradient Boosting     3.694308        23.5465\n"
     ]
    }
   ],
   "source": [
    "# TO DO: ADD YOUR CODE HERE FOR STEPS 3-5\n",
    "# Note: for any random state parameters, you can use random_state = 0\n",
    "# HINT: USING A LOOP TO STORE THE DATA IN YOUR RESULTS DATAFRAME WILL BE MORE EFFICIENT\n",
    "from sklearn.model_selection import cross_validate\n",
    "import pandas as pd\n",
    "\n",
    "# Define the models with max depth and random state\n",
    "models = {\n",
    "    \"Decision Tree\": DecisionTreeRegressor(max_depth=5, random_state=0),\n",
    "    \"Random Forest\": RandomForestRegressor(max_depth=5, random_state=0),\n",
    "    \"Gradient Boosting\": GradientBoostingRegressor(max_depth=5, random_state=0)\n",
    "}\n",
    "\n",
    "# Initialize an empty DataFrame to store the results\n",
    "results = pd.DataFrame(columns=[\"Training MSE\", \"Validation MSE\"], index=models.keys())\n",
    "\n",
    "# Perform cross-validation and calculate mean squared errors\n",
    "for model_name, model in models.items():\n",
    "    cv_results = cross_validate(model, X_train, y_train, cv=5, scoring=\"neg_mean_squared_error\", return_train_score=True)\n",
    "    \n",
    "    # Calculate average training and validation MSE and store in the DataFrame\n",
    "    train_mse = -cv_results[\"train_score\"].mean()\n",
    "    validation_mse = -cv_results[\"test_score\"].mean()\n",
    "    results.loc[model_name] = [train_mse, validation_mse]\n",
    "\n",
    "# Print the results DataFrame\n",
    "print(results)\n",
    "\n",
    "\n"
   ]
  },
  {
   "cell_type": "code",
   "execution_count": null,
   "id": "fdc93a78",
   "metadata": {},
   "outputs": [],
   "source": [
    "# TO DO: ADD YOUR CODE HERE FOR STEPS 3-5\n",
    "# Note: for any random state parameters, you can use random_state = 0\n",
    "# HINT: USING A LOOP TO STORE THE DATA IN YOUR RESULTS DATAFRAME WILL BE MORE EFFICIENT"
   ]
  },
  {
   "cell_type": "markdown",
   "id": "31715a9d",
   "metadata": {},
   "source": [
    "Repeat the step above to print the R2 score instead of the mean-squared error. For this case, you can use `scoring='r2'`"
   ]
  },
  {
   "cell_type": "code",
   "execution_count": 7,
   "id": "83539f47",
   "metadata": {},
   "outputs": [
    {
     "name": "stdout",
     "output_type": "stream",
     "text": [
      "                  Training R2 Score Validation R2 Score\n",
      "Decision Tree              0.830437            0.735184\n",
      "Random Forest              0.892634            0.830004\n",
      "Gradient Boosting          0.986903            0.916155\n"
     ]
    }
   ],
   "source": [
    "# TO DO: ADD YOUR CODE HERE\n",
    "from sklearn.model_selection import cross_validate\n",
    "import pandas as pd\n",
    "\n",
    "# Define the models with max depth and random state\n",
    "models = {\n",
    "    \"Decision Tree\": DecisionTreeRegressor(max_depth=5, random_state=0),\n",
    "    \"Random Forest\": RandomForestRegressor(max_depth=5, random_state=0),\n",
    "    \"Gradient Boosting\": GradientBoostingRegressor(max_depth=5, random_state=0)\n",
    "}\n",
    "\n",
    "# Initialize an empty DataFrame to store the results\n",
    "results = pd.DataFrame(columns=[\"Training R2 Score\", \"Validation R2 Score\"], index=models.keys())\n",
    "\n",
    "# Perform cross-validation and calculate R2 scores\n",
    "for model_name, model in models.items():\n",
    "    cv_results = cross_validate(model, X_train, y_train, cv=5, scoring='r2', return_train_score=True)\n",
    "    \n",
    "    # Calculate average training and validation R2 scores and store in the DataFrame\n",
    "    train_r2 = cv_results[\"train_score\"].mean()\n",
    "    validation_r2 = cv_results[\"test_score\"].mean()\n",
    "    results.loc[model_name] = [train_r2, validation_r2]\n",
    "\n",
    "# Print the results DataFrame\n",
    "print(results)\n"
   ]
  },
  {
   "cell_type": "markdown",
   "id": "a5257a98",
   "metadata": {},
   "source": [
    "### Questions (6 marks)\n",
    "1. How do these results compare to the results using a linear model in the previous assignment? Use values.\n",
    "1. Out of the models you tested, which model would you select for this dataset and why?\n",
    "1. If you wanted to increase the accuracy of the tree-based models, what would you do? Provide two suggestions.\n",
    "\n",
    "*ANSWER HERE*\n",
    "1) In contrast to the linear regression model used in the previous assignment, the non-linear models (Decision Tree, Random Forest, and Gradient Boosting) demonstrated notably superior performance on the concrete dataset. They achieved significantly higher R2 scores, indicating improved model performance. For instance, the Gradient Boosting model exhibited exceptional R2 scores of 0.988 for training and 0.919 for validation, whereas the linear model attained R2 scores of only 0.61. Furthermore, the non-linear models outperformed the linear model in terms of mean squared error (MSE) scores, yielding lower MSE values.\n",
    "\n",
    "2) The optimal choice for this dataset, as per our analysis, would be the Gradient Boosting model. It outperformed the other models by achieving the highest R2 scores and the lowest mean squared error. The Gradient Boosting model demonstrated an impressive training R2 score of 0.988, a strong validation R2 score of 0.919, a low training MSE of 3.379, and a minimal validation MSE of 22.783. These results signify its ability to generalize effectively and deliver the most favorable overall performance.\n",
    "\n",
    "3) To enhance the accuracy of tree-based models, there are several parameter adjustments that can be made. For decision trees, modifying parameters like max_depth can have a significant impact. Increasing the max_depth allows for more nodes in the tree, which may lead to heightened accuracy. In the case of Random Forest, adjustments to parameters such as n_estimators and max_features can be beneficial. Raising the number of trees (n_estimators) can provide more robust results, while restricting the consideration of features (max_features) introduces more randomness and can contribute to enhanced model performance. These parameter adjustments are essential for fine-tuning the models and improving their accuracy."
   ]
  },
  {
   "cell_type": "markdown",
   "id": "37b238f4",
   "metadata": {},
   "source": [
    "### Process Description (4 marks)\n",
    "Please describe the process you used to create your code. Cite any websites or generative AI tools used. You can use the following questions as guidance:\n",
    "1. Where did you source your code?\n",
    "1. In what order did you complete the steps?\n",
    "1. If you used generative AI, what prompts did you use? Did you need to modify the code at all? Why or why not?\n",
    "1. Did you have any challenges? If yes, what were they? If not, what helped you to be successful?\n",
    "\n",
    "\n",
    "\n",
    "Answer: My approach to completing this assignment involved the following steps:\n",
    "\n",
    "Understanding Non-Linear Models: I began by reviewing the lecture slides and materials provided to comprehend the theoretical concepts related to non-linear models. This included understanding their purpose and the various types of non-linear models available.\n",
    "\n",
    "Exploring Lecture Materials: I utilized the lecture materials provided in D2L, such as slides and Jupyter notebooks, to gather foundational knowledge about the non-linear models, as well as the procedures and code examples used in Python.\n",
    "\n",
    "Consulting ChatGPT: During the coding process, I sought guidance from ChatGPT on several occasions. I used prompts to understand cross-validation scores, their implementation in Python, how to write a loop to populate a pandas DataFrame, and the key distinctions between linear and non-linear machine learning models. ChatGPT was instrumental in providing clarification on these topics.\n",
    "\n",
    "Source of Code: The primary source of the code I used was from the example Jupyter notebooks provided on D2L. These notebooks served as valuable references and starting points for implementing the machine learning models and performing cross-validation.\n",
    "\n",
    "As for the generative AI tools, I used the ChatGPT API for assistance during the assignment. The prompts I used with ChatGPT helped me understand and implement Python code effectively, especially when dealing with errors and conceptual challenges. ChatGPT was a valuable resource in providing guidance and resolving issues.\n",
    "\n",
    "Challenges Faced:\n",
    "I encountered challenges during the assignment, particularly at the beginning. One notable challenge was related to my use of the wrong class. Instead of employing the DecisionTreeRegressor, I initially used DecisionTreeClassifier. This resulted in code errors and hindered my progress. ChatGPT was instrumental in correcting this error by guiding me to use the correct class for regression.\n",
    "\n",
    "Citations:\n",
    "\n",
    "OpenAI. (2023). ChatGPT API. Retrieved from https://www.openai.com/chatgpt-api\n",
    "Dawson, Leanne. (2023). ENSF 611 L01 - (Fall 2023) - Machine Learning for Software Engineers - F2023ENSF611L01. In Desire2Learn (Brightspace). [D2L Link]"
   ]
  },
  {
   "cell_type": "markdown",
   "id": "93097bfe",
   "metadata": {},
   "source": [
    "*DESCRIBE YOUR PROCESS HERE*"
   ]
  },
  {
   "cell_type": "markdown",
   "id": "f7c6de86",
   "metadata": {},
   "source": [
    "## Part 2: Classification (17.5 marks)\n",
    "\n",
    "You have been asked to develop code that can help the user classify different wine samples. Following the machine learning workflow described in class, write the relevant code in each of the steps below:"
   ]
  },
  {
   "cell_type": "markdown",
   "id": "5f9d33a8",
   "metadata": {},
   "source": [
    "### Step 1: Data Input (2 marks)\n",
    "\n",
    "The data used for this task can be downloaded from UCI: https://archive.ics.uci.edu/dataset/109/wine\n",
    "\n",
    "Use the pandas library to load the dataset. You must define the column headers if they are not included in the dataset \n",
    "\n",
    "You will need to split the dataset into feature matrix `X` and target vector `y`. Which column represents the target vector?\n",
    "\n",
    "Print the size and type of `X` and `y`"
   ]
  },
  {
   "cell_type": "code",
   "execution_count": 3,
   "id": "33583c67",
   "metadata": {},
   "outputs": [
    {
     "name": "stdout",
     "output_type": "stream",
     "text": [
      "Size and type of X: 2314, <class 'pandas.core.frame.DataFrame'>\n",
      "Size and type of y: 178, <class 'pandas.core.series.Series'>\n"
     ]
    }
   ],
   "source": [
    "import pandas as pd\n",
    "import urllib.request\n",
    "import os  # Don't forget to import the 'os' module\n",
    "\n",
    "# Define the URL of the wine dataset\n",
    "wine_data_url = 'https://archive.ics.uci.edu/ml/machine-learning-databases/wine/wine.data'\n",
    "\n",
    "# Download the dataset if it's not already available\n",
    "def download_file(url, filename):\n",
    "    if not os.path.isfile(filename):\n",
    "        print(f\"Downloading {filename} from {url}\")\n",
    "        urllib.request.urlretrieve(url, filename)\n",
    "\n",
    "# Define the column headers for the dataset\n",
    "column_names = ['Class', 'Alcohol', 'MalicAcid', 'Ash', 'AlcalinityOfAsh', 'Magnesium',\n",
    "                'TotalPhenols', 'Flavanoids', 'NonflavanoidPhenols', 'Proanthocyanins', 'ColorIntensity',\n",
    "                'Hue', 'OD280_OD315_ofDilutedWines', 'Proline']\n",
    "\n",
    "# Download and load the dataset\n",
    "download_file(wine_data_url, 'wine_data.csv')\n",
    "data = pd.read_csv('wine_data.csv', names=column_names, na_values='?')\n",
    "\n",
    "# Split the dataset into feature matrix X and target vector y\n",
    "X = data.drop(columns=['Class'])\n",
    "y = data['Class']\n",
    "\n",
    "# Print the size and type of X and y\n",
    "print(f\"Size and type of X: {X.size}, {type(X)}\")\n",
    "print(f\"Size and type of y: {y.size}, {type(y)}\")\n"
   ]
  },
  {
   "cell_type": "markdown",
   "id": "156db208",
   "metadata": {},
   "source": [
    "### Step 2: Data Processing (1.5 marks)"
   ]
  },
  {
   "cell_type": "markdown",
   "id": "a28af110",
   "metadata": {},
   "source": [
    "Print the first five rows of the dataset to inspect:"
   ]
  },
  {
   "cell_type": "code",
   "execution_count": 4,
   "id": "ea266921",
   "metadata": {},
   "outputs": [
    {
     "name": "stdout",
     "output_type": "stream",
     "text": [
      "   Class  Alcohol  MalicAcid   Ash  AlcalinityOfAsh  Magnesium  TotalPhenols  \\\n",
      "0      1    14.23       1.71  2.43             15.6        127          2.80   \n",
      "1      1    13.20       1.78  2.14             11.2        100          2.65   \n",
      "2      1    13.16       2.36  2.67             18.6        101          2.80   \n",
      "3      1    14.37       1.95  2.50             16.8        113          3.85   \n",
      "4      1    13.24       2.59  2.87             21.0        118          2.80   \n",
      "\n",
      "   Flavanoids  NonflavanoidPhenols  Proanthocyanins  ColorIntensity   Hue  \\\n",
      "0        3.06                 0.28             2.29            5.64  1.04   \n",
      "1        2.76                 0.26             1.28            4.38  1.05   \n",
      "2        3.24                 0.30             2.81            5.68  1.03   \n",
      "3        3.49                 0.24             2.18            7.80  0.86   \n",
      "4        2.69                 0.39             1.82            4.32  1.04   \n",
      "\n",
      "   OD280_OD315_ofDilutedWines  Proline  \n",
      "0                        3.92     1065  \n",
      "1                        3.40     1050  \n",
      "2                        3.17     1185  \n",
      "3                        3.45     1480  \n",
      "4                        2.93      735  \n"
     ]
    }
   ],
   "source": [
    "# TO DO: ADD YOUR CODE HERE\n",
    "print(data.head(5))"
   ]
  },
  {
   "cell_type": "markdown",
   "id": "834fc8fe",
   "metadata": {},
   "source": [
    "Check to see if there are any missing values in the dataset. If necessary, select an appropriate method to fill-in the missing values"
   ]
  },
  {
   "cell_type": "code",
   "execution_count": 5,
   "id": "97c6e9dc",
   "metadata": {},
   "outputs": [
    {
     "data": {
      "text/plain": [
       "Class                         0\n",
       "Alcohol                       0\n",
       "MalicAcid                     0\n",
       "Ash                           0\n",
       "AlcalinityOfAsh               0\n",
       "Magnesium                     0\n",
       "TotalPhenols                  0\n",
       "Flavanoids                    0\n",
       "NonflavanoidPhenols           0\n",
       "Proanthocyanins               0\n",
       "ColorIntensity                0\n",
       "Hue                           0\n",
       "OD280_OD315_ofDilutedWines    0\n",
       "Proline                       0\n",
       "dtype: int64"
      ]
     },
     "execution_count": 5,
     "metadata": {},
     "output_type": "execute_result"
    }
   ],
   "source": [
    "# TO DO: ADD YOUR CODE HERE\n",
    "data.isnull().sum()"
   ]
  },
  {
   "cell_type": "markdown",
   "id": "070956af",
   "metadata": {},
   "source": [
    "How many samples do we have of each type of wine?"
   ]
  },
  {
   "cell_type": "code",
   "execution_count": 6,
   "id": "b37a6fd9",
   "metadata": {},
   "outputs": [
    {
     "name": "stdout",
     "output_type": "stream",
     "text": [
      "Class\n",
      "2    71\n",
      "1    59\n",
      "3    48\n",
      "Name: count, dtype: int64\n"
     ]
    }
   ],
   "source": [
    "# TO DO: ADD YOUR CODE HERE\n",
    "print(y.value_counts())"
   ]
  },
  {
   "cell_type": "markdown",
   "id": "70e6c46f",
   "metadata": {},
   "source": [
    "### Step 3: Implement Machine Learning Model\n",
    "\n",
    "1. Import `SVC` and `DecisionTreeClassifier` from sklearn\n",
    "2. Instantiate models as `SVC()` and `DecisionTreeClassifier(max_depth = 3)`\n",
    "3. Implement the machine learning model with `X` and `y`"
   ]
  },
  {
   "cell_type": "code",
   "execution_count": 7,
   "id": "7167159d",
   "metadata": {},
   "outputs": [
    {
     "data": {
      "text/html": [
       "<style>#sk-container-id-1 {color: black;}#sk-container-id-1 pre{padding: 0;}#sk-container-id-1 div.sk-toggleable {background-color: white;}#sk-container-id-1 label.sk-toggleable__label {cursor: pointer;display: block;width: 100%;margin-bottom: 0;padding: 0.3em;box-sizing: border-box;text-align: center;}#sk-container-id-1 label.sk-toggleable__label-arrow:before {content: \"▸\";float: left;margin-right: 0.25em;color: #696969;}#sk-container-id-1 label.sk-toggleable__label-arrow:hover:before {color: black;}#sk-container-id-1 div.sk-estimator:hover label.sk-toggleable__label-arrow:before {color: black;}#sk-container-id-1 div.sk-toggleable__content {max-height: 0;max-width: 0;overflow: hidden;text-align: left;background-color: #f0f8ff;}#sk-container-id-1 div.sk-toggleable__content pre {margin: 0.2em;color: black;border-radius: 0.25em;background-color: #f0f8ff;}#sk-container-id-1 input.sk-toggleable__control:checked~div.sk-toggleable__content {max-height: 200px;max-width: 100%;overflow: auto;}#sk-container-id-1 input.sk-toggleable__control:checked~label.sk-toggleable__label-arrow:before {content: \"▾\";}#sk-container-id-1 div.sk-estimator input.sk-toggleable__control:checked~label.sk-toggleable__label {background-color: #d4ebff;}#sk-container-id-1 div.sk-label input.sk-toggleable__control:checked~label.sk-toggleable__label {background-color: #d4ebff;}#sk-container-id-1 input.sk-hidden--visually {border: 0;clip: rect(1px 1px 1px 1px);clip: rect(1px, 1px, 1px, 1px);height: 1px;margin: -1px;overflow: hidden;padding: 0;position: absolute;width: 1px;}#sk-container-id-1 div.sk-estimator {font-family: monospace;background-color: #f0f8ff;border: 1px dotted black;border-radius: 0.25em;box-sizing: border-box;margin-bottom: 0.5em;}#sk-container-id-1 div.sk-estimator:hover {background-color: #d4ebff;}#sk-container-id-1 div.sk-parallel-item::after {content: \"\";width: 100%;border-bottom: 1px solid gray;flex-grow: 1;}#sk-container-id-1 div.sk-label:hover label.sk-toggleable__label {background-color: #d4ebff;}#sk-container-id-1 div.sk-serial::before {content: \"\";position: absolute;border-left: 1px solid gray;box-sizing: border-box;top: 0;bottom: 0;left: 50%;z-index: 0;}#sk-container-id-1 div.sk-serial {display: flex;flex-direction: column;align-items: center;background-color: white;padding-right: 0.2em;padding-left: 0.2em;position: relative;}#sk-container-id-1 div.sk-item {position: relative;z-index: 1;}#sk-container-id-1 div.sk-parallel {display: flex;align-items: stretch;justify-content: center;background-color: white;position: relative;}#sk-container-id-1 div.sk-item::before, #sk-container-id-1 div.sk-parallel-item::before {content: \"\";position: absolute;border-left: 1px solid gray;box-sizing: border-box;top: 0;bottom: 0;left: 50%;z-index: -1;}#sk-container-id-1 div.sk-parallel-item {display: flex;flex-direction: column;z-index: 1;position: relative;background-color: white;}#sk-container-id-1 div.sk-parallel-item:first-child::after {align-self: flex-end;width: 50%;}#sk-container-id-1 div.sk-parallel-item:last-child::after {align-self: flex-start;width: 50%;}#sk-container-id-1 div.sk-parallel-item:only-child::after {width: 0;}#sk-container-id-1 div.sk-dashed-wrapped {border: 1px dashed gray;margin: 0 0.4em 0.5em 0.4em;box-sizing: border-box;padding-bottom: 0.4em;background-color: white;}#sk-container-id-1 div.sk-label label {font-family: monospace;font-weight: bold;display: inline-block;line-height: 1.2em;}#sk-container-id-1 div.sk-label-container {text-align: center;}#sk-container-id-1 div.sk-container {/* jupyter's `normalize.less` sets `[hidden] { display: none; }` but bootstrap.min.css set `[hidden] { display: none !important; }` so we also need the `!important` here to be able to override the default hidden behavior on the sphinx rendered scikit-learn.org. See: https://github.com/scikit-learn/scikit-learn/issues/21755 */display: inline-block !important;position: relative;}#sk-container-id-1 div.sk-text-repr-fallback {display: none;}</style><div id=\"sk-container-id-1\" class=\"sk-top-container\"><div class=\"sk-text-repr-fallback\"><pre>DecisionTreeClassifier(max_depth=3)</pre><b>In a Jupyter environment, please rerun this cell to show the HTML representation or trust the notebook. <br />On GitHub, the HTML representation is unable to render, please try loading this page with nbviewer.org.</b></div><div class=\"sk-container\" hidden><div class=\"sk-item\"><div class=\"sk-estimator sk-toggleable\"><input class=\"sk-toggleable__control sk-hidden--visually\" id=\"sk-estimator-id-1\" type=\"checkbox\" checked><label for=\"sk-estimator-id-1\" class=\"sk-toggleable__label sk-toggleable__label-arrow\">DecisionTreeClassifier</label><div class=\"sk-toggleable__content\"><pre>DecisionTreeClassifier(max_depth=3)</pre></div></div></div></div></div>"
      ],
      "text/plain": [
       "DecisionTreeClassifier(max_depth=3)"
      ]
     },
     "execution_count": 7,
     "metadata": {},
     "output_type": "execute_result"
    }
   ],
   "source": [
    "from sklearn.tree import DecisionTreeClassifier\n",
    "from sklearn.svm import SVC\n",
    "from sklearn.model_selection import train_test_split\n",
    "\n",
    "# Split the data into training and validation sets\n",
    "X_train, X_val, y_train, y_val = train_test_split(X, y, random_state=0)\n",
    "\n",
    "# Initialize and train the Support Vector Classifier (SVC)\n",
    "svc = SVC(random_state=0)\n",
    "svc.fit(X_train, y_train)\n",
    "\n",
    "# Initialize and train the Decision Tree Classifier with a maximum depth of 3\n",
    "tree_dt = DecisionTreeClassifier(max_depth=3)\n",
    "tree_dt.fit(X_train, y_train)"
   ]
  },
  {
   "cell_type": "markdown",
   "id": "0870b0d2",
   "metadata": {},
   "source": [
    "### Step 4: Validate Model \n",
    "\n",
    "Calculate the average training and validation accuracy using `cross_validate` for the two different models listed in Step 3. For this case, use `scoring='accuracy'`"
   ]
  },
  {
   "cell_type": "code",
   "execution_count": 8,
   "id": "ff23f928",
   "metadata": {},
   "outputs": [
    {
     "name": "stdout",
     "output_type": "stream",
     "text": [
      "Decision Tree Classifier:\n",
      "Training Accuracy: 0.994\n",
      "Validation Accuracy: 0.894\n",
      "\n",
      "Support Vector Classifier (SVC):\n",
      "Training Accuracy: 0.680\n",
      "Validation Accuracy: 0.677\n"
     ]
    }
   ],
   "source": [
    "from sklearn.model_selection import cross_validate\n",
    "\n",
    "# Perform cross-validation for the Decision Tree Classifier\n",
    "cv_results_dt = cross_validate(tree_dt, X_train, y_train, cv=5, scoring='accuracy', return_train_score=True)\n",
    "\n",
    "# Perform cross-validation for the Support Vector Classifier (SVC)\n",
    "cv_results_svc = cross_validate(svc, X_train, y_train, cv=5, scoring='accuracy', return_train_score=True)\n",
    "\n",
    "# Calculate the mean training accuracy and validation accuracy for the Decision Tree Classifier\n",
    "train_accuracy_dt = cv_results_dt['train_score'].mean()\n",
    "validation_accuracy_dt = cv_results_dt['test_score'].mean()\n",
    "\n",
    "# Calculate the mean training accuracy and validation accuracy for the Support Vector Classifier (SVC)\n",
    "train_accuracy_svc = cv_results_svc['train_score'].mean()\n",
    "validation_accuracy_svc = cv_results_svc['test_score'].mean()\n",
    "\n",
    "# Print the results\n",
    "print(\"Decision Tree Classifier:\")\n",
    "print(f\"Training Accuracy: {train_accuracy_dt:.3f}\")\n",
    "print(f\"Validation Accuracy: {validation_accuracy_dt:.3f}\\n\")\n",
    "\n",
    "print(\"Support Vector Classifier (SVC):\")\n",
    "print(f\"Training Accuracy: {train_accuracy_svc:.3f}\")\n",
    "print(f\"Validation Accuracy: {validation_accuracy_svc:.3f}\")\n"
   ]
  },
  {
   "cell_type": "markdown",
   "id": "bb0bbd83",
   "metadata": {},
   "source": [
    "### Step 5: Visualize Results (4 marks)\n",
    "\n",
    "#### Step 5.1: Compare Models\n",
    "1. Create a pandas DataFrame `results` with columns: Training accuracy and Validation accuracy\n",
    "2. Add the data size, training and validation accuracy for each dataset to the `results` DataFrame\n",
    "3. Print `results`"
   ]
  },
  {
   "cell_type": "code",
   "execution_count": 10,
   "id": "be4b5c0a",
   "metadata": {},
   "outputs": [
    {
     "name": "stdout",
     "output_type": "stream",
     "text": [
      "               Data Size  Training Accuracy  Validation Accuracy\n",
      "Decision Tree       2314           0.994357             0.894017\n",
      "SVC                 2314           0.680427             0.676638\n"
     ]
    }
   ],
   "source": [
    "# TO DO: ADD YOUR CODE HERE FOR STEPS 3-5\n",
    "# Note: for any random state parameters, you can use random_state = 0\n",
    "# HINT: USING A LOOP TO STORE THE DATA IN YOUR RESULTS DATAFRAME WILL BE MORE EFFICIENT\n",
    "\n",
    "results = pd.DataFrame(columns=['Data Size', 'Training Accuracy', 'Validation Accuracy'], index=['Decision Tree', 'SVC'])\n",
    "results[\"Training Accuracy\"] = [train_accuracy_dt, train_accuracy_svc]\n",
    "results[\"Validation Accuracy\"] = [validation_accuracy_dt, validation_accuracy_svc]\n",
    "results[\"Data Size\"] = [X.size, X.size]\n",
    "\n",
    "# Print the results DataFrame\n",
    "print(results)\n"
   ]
  },
  {
   "cell_type": "markdown",
   "id": "f2e17878",
   "metadata": {},
   "source": [
    "#### Step 5.2: Visualize Classification Errors\n",
    "Which method gave the highest accuracy? Use this method to print the confusion matrix and classification report:"
   ]
  },
  {
   "cell_type": "code",
   "execution_count": 11,
   "id": "44b091a4",
   "metadata": {},
   "outputs": [
    {
     "name": "stdout",
     "output_type": "stream",
     "text": [
      "[[14  2  0]\n",
      " [ 0 20  1]\n",
      " [ 0  0  8]]\n"
     ]
    }
   ],
   "source": [
    "# TO DO: Implement best model\n",
    "from sklearn.metrics import confusion_matrix\n",
    "y_pred =tree_dt.predict(X_val)\n",
    "mat = confusion_matrix(y_val, y_pred)\n",
    "print(mat)"
   ]
  },
  {
   "cell_type": "code",
   "execution_count": 12,
   "id": "09d21b59",
   "metadata": {},
   "outputs": [
    {
     "data": {
      "image/png": "[encoded data removed]",
      "text/plain": [
       "<Figure size 800x600 with 1 Axes>"
      ]
     },
     "metadata": {},
     "output_type": "display_data"
    }
   ],
   "source": [
    "# TO DO: Print confusion matrix using a heatmap\n",
    "import seaborn as sns\n",
    "import matplotlib.pyplot as plt\n",
    "\n",
    "# Generate the confusion matrix\n",
    "confusion_matrix = mat\n",
    "\n",
    "# Define class labels\n",
    "class_labels = [1, 2, 3]\n",
    "\n",
    "# Create a heatmap of the confusion matrix\n",
    "plt.figure(figsize=(8, 6))\n",
    "sns.heatmap(confusion_matrix, xticklabels=class_labels, yticklabels=class_labels, square=True, annot=True, cbar=False)\n",
    "plt.xlabel('Predicted Value')\n",
    "plt.ylabel('True Value')\n",
    "plt.title(\"Confusion Matrix as Heatmap\")\n",
    "plt.show()\n"
   ]
  },
  {
   "cell_type": "code",
   "execution_count": 13,
   "id": "5ef95947",
   "metadata": {},
   "outputs": [
    {
     "name": "stdout",
     "output_type": "stream",
     "text": [
      "              precision    recall  f1-score   support\n",
      "\n",
      "           1       1.00      0.88      0.93        16\n",
      "           2       0.91      0.95      0.93        21\n",
      "           3       0.89      1.00      0.94         8\n",
      "\n",
      "    accuracy                           0.93        45\n",
      "   macro avg       0.93      0.94      0.93        45\n",
      "weighted avg       0.94      0.93      0.93        45\n",
      "\n"
     ]
    }
   ],
   "source": [
    "# TO DO: Print classification report\n",
    "from sklearn.metrics import classification_report\n",
    "print(classification_report(y_val,y_pred))"
   ]
  },
  {
   "cell_type": "markdown",
   "id": "bf319621",
   "metadata": {},
   "source": [
    "### Questions (6 marks)\n",
    "1. How do the training and validation accuracy change depending on the method used? Explain with values.\n",
    "1. What are two reasons why the support vector machines model did not work as well as the tree-based model?\n",
    "1. How many samples were incorrectly classified in step 5.2? \n",
    "1. In this case, is maximizing precision or recall more important? Why?\n",
    "\n",
    "*YOUR ANSWERS HERE*\n",
    "1. The training and validation accuracy varied significantly between the Decision Tree Classifier and the Support Vector Machine (SVC) models. For the Decision Tree Classifier, the training accuracy was approximately 0.994, while the validation accuracy was about 0.902. In contrast, the SVC model had a training accuracy of approximately 0.6804 and a validation accuracy of around 0.6766. The Decision Tree Classifier outperforms the SVC model in terms of both training and validation accuracy.\n",
    "\n",
    "2. Two reasons why the SVC model did not work as well as the Decision Tree Classifier are:\n",
    "\n",
    "a. Improper tuning of hyperparameters: The performance of SVC is highly dependent on hyperparameters like 'C' and 'gamma.' If these parameters are not tuned correctly, it can lead to suboptimal results. In this case, the hyperparameters might not have been fine-tuned for the SVC model.\n",
    "\n",
    "b. Sensitivity to feature scaling: SVC is sensitive to the scaling of features. Since the wine dataset contains features with a wide range of values (e.g., some features range from 0.1 to 1000), failing to scale the features properly can affect the model's performance. Decision Trees, on the other hand, are less sensitive to feature scaling.\n",
    "\n",
    "3. In step 5.2, three samples were incorrectly classified.\n",
    "\n",
    "4. In this case, maximizing precision is more important. Precision measures the accuracy of positive predictions, and in the context of classifying wine cultivars, it's crucial to minimize the false positives, i.e., incorrectly labeling wine as a certain cultivar when it's not. Maximizing precision ensures that the positive predictions are as accurate as possible, which is essential for wine classification and quality assessment."
   ]
  },
  {
   "cell_type": "markdown",
   "id": "664ff8ae",
   "metadata": {},
   "source": [
    "### Process Description (4 marks)\n",
    "Please describe the process you used to create your code. Cite any websites or generative AI tools used. You can use the following questions as guidance:\n",
    "1. Where did you source your code?\n",
    "1. In what order did you complete the steps?\n",
    "1. If you used generative AI, what prompts did you use? Did you need to modify the code at all? Why or why not?\n",
    "1. Did you have any challenges? If yes, what were they? If not, what helped you to be successful?"
   ]
  },
  {
   "cell_type": "markdown",
   "id": "d0e837da",
   "metadata": {},
   "source": [
    "\n",
    "\n",
    "Process Description\n",
    "\n",
    "For this assignment, I started by reviewing the lecture notes and materials provided on Support Vector Machines (SVM) and Decision Trees to gain a thorough understanding of these machine learning models. I also referred to the Jupyter notebooks available on D2L to see code examples that helped me in the implementation.\n",
    "\n",
    "I utilized ChatGPT to clarify concepts, troubleshoot errors, and get a better understanding of the code. Some of the prompts I used included inquiring about the significance of the gamma parameter in the SVM model, understanding the key differences between Random Forest and Decision Trees, and learning how to efficiently write code for creating and populating a Pandas DataFrame.\n",
    "\n",
    "During the assignment, I encountered a challenge in comprehending the different kernel functions available for SVM models, particularly the polynomial kernel and the RBF/Gaussian kernel. ChatGPT was instrumental in clearing up my understanding of these kernels.\n",
    "\n",
    "Citations:\n",
    "\n",
    "OpenAI. (2023). ChatGPT API. Retrieved from https://www.openai.com/chatgpt-api\n",
    "Dawson, Leanne. (2023). ENSF 611 L01 - (Fall 2023) - Machine Learning for Software Engineers - F2023ENSF611L01. In Desire2Learn (Brightspace). https://d2l.ucalgary.ca/d2l/home/543310*DESCRIBE YOUR PROCESS HERE*"
   ]
  },
  {
   "cell_type": "markdown",
   "id": "4cd7358d",
   "metadata": {},
   "source": [
    "## Part 3: Observations/Interpretation (3 marks)\n",
    "\n",
    "Describe any pattern you see in the results. Relate your findings to what we discussed during lectures. Include data to justify your findings.\n",
    "\n",
    "\n",
    "*ADD YOUR FINDINGS HERE*\n",
    "In Part 1, we explored the performance of Decision Tree, Random Forest, and Gradient Boosting models, each set to a maximum depth of 5.\n",
    "\n",
    "Decision Tree: This basic model exhibited modest results with a training score (R2) of 0.834 and a validation score of 0.739. However, it can be prone to overfitting.\n",
    "\n",
    "Random Forest: Random Forest, an ensemble of Decision Trees, improved performance. It achieved a training score of 0.897 and a validation score of 0.841, effectively reducing overfitting.\n",
    "\n",
    "Gradient Boosting: Gradient Boosting excelled with a training score of 0.988 and a validation score of 0.919. Its iterative approach and strong pre-pruning make it a powerful model.\n",
    "\n",
    "The pattern here emphasizes the advantages of ensemble models over basic Decision Trees and aligns with the concept of ensembles discussed in lectures.\n",
    "\n",
    "Part 2: Decision Tree vs. Support Vector Machines (SVM)\n",
    "\n",
    "In Part 2, a Decision Tree model with a maximum depth of 3 outperformed an SVM model.\n",
    "\n",
    "Decision Tree: Achieved better training and validation accuracy, making it a good match for the dataset's characteristics.\n",
    "\n",
    "Support Vector Machines (SVM): Underperformed due to inadequate parameter tuning and feature scaling. SVMs are sensitive to these factors.\n",
    "\n",
    "These results illustrate the importance of selecting the right model and fine-tuning parameters for optimal performance, aligning with lecture content."
   ]
  },
  {
   "cell_type": "markdown",
   "id": "cd97b6ac",
   "metadata": {},
   "source": [
    "## Part 4: Reflection (2 marks)\n",
    "Include a sentence or two about:\n",
    "- what you liked or disliked,\n",
    "- found interesting, confusing, challangeing, motivating\n",
    "while working on this assignment.\n",
    "\n",
    "\n",
    "*ADD YOUR THOUGHTS HERE*\n",
    "During this assignment, I appreciated the opportunity to explore various machine learning models and delve into the underlying theory. It was fascinating to witness how different models can be applied based on the dataset characteristics to achieve accuracy.\n",
    "\n",
    "The complex mathematical aspects of the models presented a considerable challenge. While I attempted to grasp the mathematical intricacies, I found them to be quite daunting and difficult to fully comprehend. The mathematical components of machine learning remain an area where I see room for growth and improvement in my understanding.\n",
    "\n",
    "In conclusion, I found this assignment to be a valuable learning experience that exposed me to the diverse world of machine learning, both its strengths and complexities."
   ]
  },
  {
   "cell_type": "markdown",
   "id": "fa21e53b",
   "metadata": {},
   "source": [
    "## Part 5: Bonus Question (3 marks)\n",
    "\n",
    "Repeat Part 2 and compare the support vector machines model used to `LinearSVC(max_iter=5000)`. Does using `LinearSVC` improve the results? Why or why not?\n",
    "\n",
    "Is `LinearSVC` a good fit for this dataset? Why or why not?"
   ]
  },
  {
   "cell_type": "code",
   "execution_count": 14,
   "id": "30fea72e",
   "metadata": {},
   "outputs": [
    {
     "name": "stderr",
     "output_type": "stream",
     "text": [
      "c:\\Users\\Ranji\\anaconda3\\envs\\ensf-ml\\Lib\\site-packages\\sklearn\\svm\\_classes.py:32: FutureWarning: The default value of `dual` will change from `True` to `'auto'` in 1.5. Set the value of `dual` explicitly to suppress the warning.\n",
      "  warnings.warn(\n",
      "c:\\Users\\Ranji\\anaconda3\\envs\\ensf-ml\\Lib\\site-packages\\sklearn\\svm\\_base.py:1242: ConvergenceWarning: Liblinear failed to converge, increase the number of iterations.\n",
      "  warnings.warn(\n",
      "c:\\Users\\Ranji\\anaconda3\\envs\\ensf-ml\\Lib\\site-packages\\sklearn\\svm\\_classes.py:32: FutureWarning: The default value of `dual` will change from `True` to `'auto'` in 1.5. Set the value of `dual` explicitly to suppress the warning.\n",
      "  warnings.warn(\n",
      "c:\\Users\\Ranji\\anaconda3\\envs\\ensf-ml\\Lib\\site-packages\\sklearn\\svm\\_base.py:1242: ConvergenceWarning: Liblinear failed to converge, increase the number of iterations.\n",
      "  warnings.warn(\n",
      "c:\\Users\\Ranji\\anaconda3\\envs\\ensf-ml\\Lib\\site-packages\\sklearn\\svm\\_classes.py:32: FutureWarning: The default value of `dual` will change from `True` to `'auto'` in 1.5. Set the value of `dual` explicitly to suppress the warning.\n",
      "  warnings.warn(\n",
      "c:\\Users\\Ranji\\anaconda3\\envs\\ensf-ml\\Lib\\site-packages\\sklearn\\svm\\_base.py:1242: ConvergenceWarning: Liblinear failed to converge, increase the number of iterations.\n",
      "  warnings.warn(\n",
      "c:\\Users\\Ranji\\anaconda3\\envs\\ensf-ml\\Lib\\site-packages\\sklearn\\svm\\_classes.py:32: FutureWarning: The default value of `dual` will change from `True` to `'auto'` in 1.5. Set the value of `dual` explicitly to suppress the warning.\n",
      "  warnings.warn(\n",
      "c:\\Users\\Ranji\\anaconda3\\envs\\ensf-ml\\Lib\\site-packages\\sklearn\\svm\\_base.py:1242: ConvergenceWarning: Liblinear failed to converge, increase the number of iterations.\n",
      "  warnings.warn(\n",
      "c:\\Users\\Ranji\\anaconda3\\envs\\ensf-ml\\Lib\\site-packages\\sklearn\\svm\\_classes.py:32: FutureWarning: The default value of `dual` will change from `True` to `'auto'` in 1.5. Set the value of `dual` explicitly to suppress the warning.\n",
      "  warnings.warn(\n",
      "c:\\Users\\Ranji\\anaconda3\\envs\\ensf-ml\\Lib\\site-packages\\sklearn\\svm\\_base.py:1242: ConvergenceWarning: Liblinear failed to converge, increase the number of iterations.\n",
      "  warnings.warn(\n",
      "c:\\Users\\Ranji\\anaconda3\\envs\\ensf-ml\\Lib\\site-packages\\sklearn\\svm\\_classes.py:32: FutureWarning: The default value of `dual` will change from `True` to `'auto'` in 1.5. Set the value of `dual` explicitly to suppress the warning.\n",
      "  warnings.warn(\n",
      "c:\\Users\\Ranji\\anaconda3\\envs\\ensf-ml\\Lib\\site-packages\\sklearn\\svm\\_base.py:1242: ConvergenceWarning: Liblinear failed to converge, increase the number of iterations.\n",
      "  warnings.warn(\n"
     ]
    },
    {
     "data": {
      "text/html": [
       "<div>\n",
       "<style scoped>\n",
       "    .dataframe tbody tr th:only-of-type {\n",
       "        vertical-align: middle;\n",
       "    }\n",
       "\n",
       "    .dataframe tbody tr th {\n",
       "        vertical-align: top;\n",
       "    }\n",
       "\n",
       "    .dataframe thead th {\n",
       "        text-align: right;\n",
       "    }\n",
       "</style>\n",
       "<table border=\"1\" class=\"dataframe\">\n",
       "  <thead>\n",
       "    <tr style=\"text-align: right;\">\n",
       "      <th></th>\n",
       "      <th>Data Size for Training</th>\n",
       "      <th>Data Size for Testing</th>\n",
       "      <th>Training Accuracy</th>\n",
       "      <th>Validation Accuracy</th>\n",
       "    </tr>\n",
       "  </thead>\n",
       "  <tbody>\n",
       "    <tr>\n",
       "      <th>0</th>\n",
       "      <td>(133, 13)</td>\n",
       "      <td>(45, 13)</td>\n",
       "      <td>0.932217</td>\n",
       "      <td>0.917949</td>\n",
       "    </tr>\n",
       "  </tbody>\n",
       "</table>\n",
       "</div>"
      ],
      "text/plain": [
       "  Data Size for Training Data Size for Testing  Training Accuracy  \\\n",
       "0              (133, 13)              (45, 13)           0.932217   \n",
       "\n",
       "   Validation Accuracy  \n",
       "0             0.917949  "
      ]
     },
     "metadata": {},
     "output_type": "display_data"
    }
   ],
   "source": [
    "# TO DO: ADD YOUR CODE HERE\n",
    "from sklearn.svm import LinearSVC\n",
    "\n",
    "X_train, X_val, y_train, y_val = train_test_split(X, y, random_state=0)\n",
    "\n",
    "# Create and fit the LinearSVC model\n",
    "LinearSVC_m = LinearSVC(max_iter=5000).fit(X_train, y_train)\n",
    "\n",
    "# Perform cross-validation for LinearSVC\n",
    "cv_results_m_score = cross_validate(LinearSVC_m, X_train, y_train, cv=5, scoring='accuracy', return_train_score=True)\n",
    "cv_results_train = cv_results_m_score[\"train_score\"].mean()\n",
    "cv_result_test = cv_results_m_score[\"test_score\"].mean()\n",
    "\n",
    "# Create a results DataFrame to compare LinearSVC with the previous model\n",
    "results = pd.DataFrame(columns=['Data Size for Training', 'Data Size for Testing', 'Training Accuracy', 'Validation Accuracy'])\n",
    "results['Data Size for Training'] = [X_train.shape]\n",
    "results['Data Size for Testing'] = [X_val.shape]\n",
    "results['Training Accuracy'] = [cv_results_train]\n",
    "results['Validation Accuracy'] = [cv_result_test]\n",
    "\n",
    "display(results)\n"
   ]
  },
  {
   "cell_type": "markdown",
   "id": "aabc68a4",
   "metadata": {},
   "source": [
    "*ANSWER HERE*\n",
    "The LinearSVC model is a better fit for this dataset than the SVC model. It achieves higher training and validation accuracies, with the training accuracy at 0.887 and the validation accuracy at 0.872. In contrast, the SVC model has lower training and validation accuracies, with training accuracy at 0.680 and validation accuracy at 0.677.\n",
    "\n",
    "The dataset seems to be more compatible with a linear decision boundary, which LinearSVC provides, as it excels in datasets where linear separation works well. The SVC model offers multiple kernel functions, including linear, polynomial, and radial basis functions, but these complex kernels may not be necessary for this dataset.\n",
    "\n",
    "In summary, LinearSVC is a better choice for this dataset due to its higher accuracy and its suitability for datasets that benefit from a linear decision boundary."
   ]
  }
 ],
 "metadata": {
  "kernelspec": {
   "display_name": "Python 3 (ipykernel)",
   "language": "python",
   "name": "python3"
  },
  "language_info": {
   "codemirror_mode": {
    "name": "ipython",
    "version": 3
   },
   "file_extension": ".py",
   "mimetype": "text/x-python",
   "name": "python",
   "nbconvert_exporter": "python",
   "pygments_lexer": "ipython3",
   "version": "3.11.5"
  }
 },
 "nbformat": 4,
 "nbformat_minor": 5
}
